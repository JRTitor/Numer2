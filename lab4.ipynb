{
 "cells": [
  {
   "cell_type": "markdown",
   "metadata": {},
   "source": [
    "Используя схемы переменных направлений и дробных шагов, решить двумерную начально-краевую задачу для дифференциального уравнения параболического типа. В различные моменты времени вычислить погрешность численного решения путем сравнения результатов с приведенным в задании аналитическим решением  $U(x, t)$. \n",
    "\n",
    "Исследовать зависимость погрешности от сеточных параметров  $\\tau$, $h_x$, $h_y$."
   ]
  },
  {
   "cell_type": "markdown",
   "metadata": {},
   "source": [
    "$$ \\frac{\\partial u}{\\partial t} = a \\frac{\\partial^2 u}{\\partial x^2} + b \\frac{\\partial^2 u}{\\partial y^2} + \\sin{x} \\sin{y} [\\cos{\\mu t} + (a+b) \\sin{\\mu t}] $$"
   ]
  },
  {
   "cell_type": "markdown",
   "metadata": {},
   "source": [
    "$$ u(0, y, t) = 0 \\\\ u_x(\\pi, y, t) = -\\sin{y} \\sin{\\mu t}  \\\\ u(x, 0, t) = 0 \\\\  u_y(x, \\pi, t) = -\\sin{x} \\sin{\\mu t} \\\\ u(x, y, 0) = 0"
   ]
  },
  {
   "cell_type": "markdown",
   "metadata": {},
   "source": [
    "В) $a = 1, b = 2, \\mu = 1$"
   ]
  },
  {
   "cell_type": "markdown",
   "metadata": {},
   "source": [
    "аналитическое решение $$ U(x, y, t) = \\sin{x} \\sin{y} \\sin{\\mu t} $$"
   ]
  },
  {
   "cell_type": "code",
   "execution_count": 2,
   "metadata": {},
   "outputs": [],
   "source": [
    "import math\n",
    "import typing\n",
    "from typing import List\n",
    "import matplotlib.pyplot as plt\n",
    "import copy"
   ]
  },
  {
   "cell_type": "markdown",
   "metadata": {},
   "source": [
    "### Входные условия"
   ]
  },
  {
   "cell_type": "code",
   "execution_count": 3,
   "metadata": {},
   "outputs": [],
   "source": [
    "x_left = 0\n",
    "x_right = math.pi\n",
    "y_left = 0\n",
    "y_right = math.pi\n",
    "\n",
    "a = 1\n",
    "b = 2\n",
    "mu = 1"
   ]
  },
  {
   "cell_type": "code",
   "execution_count": null,
   "metadata": {},
   "outputs": [],
   "source": [
    "def phi_1(y:float, t:float, mu:float=1) -> float:\n",
    "    return 0\n",
    "\n",
    "def phi_2(y:float, t:float, mu:float=1) -> float:\n",
    "    return -math.sin(y) * math.sin(mu * t)\n",
    "\n",
    "def phi_3(x:float, t:float, mu:float=1) -> float:\n",
    "    return 0\n",
    "\n",
    "def phi_4(x:float, t:float, mu:float=1) -> float:\n",
    "    return -math.sin(x) * math.sin(mu * t)\n",
    "\n",
    "def psi(x:float, y:float, mu:float=1) -> float:\n",
    "    return 0\n",
    "\n",
    "def f(x:float, y:float, t:float, mu:float=1, a:float=1, b:float=2) -> float:\n",
    "    return math.sin(x) * math.sin(y) * (mu * math.cos(mu * t) + (a + b) * math.sin(mu * t))\n",
    "\n",
    "\n",
    "def U(x:float, y:float, t:float, mu:float=1) -> float:\n",
    "    return math.sin(x) * math.sin(y) * math.sin(mu * t)\n",
    "\n",
    "def real_U(X:List[float], Y:List[float], T:List[float]) -> List[List[List[float]]]:\n",
    "    U_true = [[[0] * len(X) for _ in range(len(Y))] for __ in range(len(T))]\n",
    "    for i in range(len(T)):\n",
    "        for k in range(len(Y)):\n",
    "            for j in range(len(X)):\n",
    "                U_true[k][j] = U(X[j], Y[k], T[i])\n",
    "    return U_true"
   ]
  },
  {
   "cell_type": "markdown",
   "metadata": {},
   "source": [
    "### Вспомогательные функиции"
   ]
  },
  {
   "cell_type": "code",
   "execution_count": null,
   "metadata": {},
   "outputs": [],
   "source": [
    "def plot_graphs(new_X:list, new_T:list, found_U:list, U_true:list, s:str='') -> None:\n",
    "    plt.plot(new_X, U_true[len(new_T) // 4 ],  label='Аналитическое решение')\n",
    "    plt.plot(new_X, found_U[len(new_T) // 4 ], label=s, linestyle='dashdot')\n",
    "    plt.plot(new_X, U_true[len(new_T) // 2 ], label='Аналитическое решение')\n",
    "    plt.plot(new_X, found_U[len(new_T) // 2 ], label=s, linestyle='dashdot')\n",
    "    plt.plot(new_X, U_true[len(new_T) - 1], label='Аналитическое решение')\n",
    "    plt.plot(new_X, found_U[len(new_T) - 1],label=s, linestyle='dashdot')\n",
    "    plt.legend()"
   ]
  },
  {
   "cell_type": "code",
   "execution_count": null,
   "metadata": {},
   "outputs": [],
   "source": [
    "'''\n",
    "I must fix dims HERE\n",
    "'''\n",
    "\n",
    "def local_error (U_my:list, U_true:list) -> float:\n",
    "    return sum([abs(a - b) for a, b in zip(U_my, U_true)])\n",
    "\n",
    "def get_error_array_with_h(N:list, x_left:float, x_right:float, y_left:float, y_right:float, a:float, b:float, c:float, d:float, \n",
    "                           find_u:typing.Callable, eps:float=0.1, n_x:float=10, n_y:float=10, omega:float=-10, for_x:bool=True)  -> (list, list): # H, error\n",
    "    \n",
    "    if for_x:\n",
    "        right = x_right\n",
    "    else:\n",
    "        right = y_right\n",
    "    H = [right/(n - 1) for n in N]\n",
    "    ERROR = []\n",
    "    for n in N:\n",
    "        if omega == -10:\n",
    "            if for_x:\n",
    "                XX, YY, UU = find_u(x_left, x_right, y_left, y_right, a, b, c, d, eps=eps, n_x=n, n_y=n_y)\n",
    "            else:\n",
    "                XX, YY, UU = find_u(x_left, x_right, y_left, y_right, a, b, c, d, eps=eps, n_x=n_x, n_y=n)\n",
    "        else:\n",
    "            if for_x:\n",
    "                XX, YY, UU = find_u(x_left, x_right, y_left, y_right, a, b, c, d=0, eps=eps, n_x=n, n_y=n_y, omega=omega)\n",
    "            else:\n",
    "                XX, YY, UU = find_u(x_left, x_right, y_left, y_right, a, b, c, d=0, eps=eps, n_x=n_x, n_y=n, omega=omega)\n",
    "        U_true = real_U(XX, YY)\n",
    "        t = len(YY) // 2\n",
    "        ERROR.append(local_error(UU[t], U_true[t]))\n",
    "    \n",
    "    return H, ERROR"
   ]
  },
  {
   "cell_type": "code",
   "execution_count": null,
   "metadata": {},
   "outputs": [],
   "source": [
    "def h_error_plot(H:list, ERROR:list, s:str=' x') -> None:\n",
    "    plt.plot(H, ERROR[::-1])\n",
    "    plt.xlabel(\"h\" + s)\n",
    "    plt.ylabel(\"error\")\n",
    "    plt.show()"
   ]
  },
  {
   "cell_type": "code",
   "execution_count": null,
   "metadata": {},
   "outputs": [],
   "source": [
    "def frange(start:float, stop:float, step:float) -> float:\n",
    "    while start < stop:\n",
    "        yield start\n",
    "        start += step"
   ]
  },
  {
   "cell_type": "code",
   "execution_count": null,
   "metadata": {},
   "outputs": [],
   "source": [
    "def get_y(y0:float, y_end:float, h:float) -> List[float]:\n",
    "    return [i for i in frange(y0, y_end+h, h)]\n",
    "\n",
    "def get_x(x_0:float, x_l:float, h:float) -> List[float]:\n",
    "    return [i for i in frange(x_0, x_l+h, h)]\n",
    "\n",
    "def get_t(t_0:float, t_end:float, h:float) -> List[float]:\n",
    "    return [i for i in frange(t_0, t_end+h, h)]"
   ]
  },
  {
   "cell_type": "code",
   "execution_count": null,
   "metadata": {},
   "outputs": [],
   "source": [
    "def solve_PQ(A0:list, A1:list, A2:list, B:list) -> list:\n",
    "    P = [-A2[0] / A1[0]]\n",
    "    Q = [B[0] / A1[0]]\n",
    "    for i in range(1, len(B)):\n",
    "\n",
    "        P.append(-A2[i] / (A1[i] + A0[i] * P[i - 1]))\n",
    "        Q.append((B[i] - A0[i] * Q[i - 1]) / (A1[i] + A0[i] * P[i - 1]))\n",
    "\n",
    "    res = [Q[-1]]\n",
    "\n",
    "    for i in range(len(B) - 2, -1, -1):\n",
    "        res.append(P[i] * res[-1] + Q[i])\n",
    "\n",
    "    return res[::-1]"
   ]
  },
  {
   "cell_type": "code",
   "execution_count": null,
   "metadata": {},
   "outputs": [],
   "source": [
    "def error(U_prev:List[List[float]], U_values:List[List[float]]) -> float:\n",
    "    eps = 0\n",
    "    for i in range(len(U_values)):\n",
    "        for j in range(len(U_values[0])):\n",
    "            eps = max(eps, abs(U_prev[i][j] - U_values[i][j]))\n",
    "    return eps\n"
   ]
  },
  {
   "cell_type": "code",
   "execution_count": null,
   "metadata": {},
   "outputs": [],
   "source": [
    "def border_conds(U_values:List[List[float]], X:List[float], Y:List[float], T:List[float], mu:float, hx:float, hy:float) -> None:\n",
    "    for k in range(len(T)):\n",
    "        for i in range(len(X)):\n",
    "            U_values[k][i][0] = phi_3(X[i], T[k], mu=mu)\n",
    "            U_values[k][i][-1] = phi_4(X[i], T[k], mu=mu) #* hy + U_values[k][-2][i]\n",
    "        for j in range(len(Y)):\n",
    "            U_values[k][0][j] = phi_1(Y[j], T[k], mu=mu)\n",
    "            U_values[k][-1][j] = phi_2(Y[j], T[k], mu=mu) #* hx +   U_values[k][j][-2]"
   ]
  },
  {
   "cell_type": "markdown",
   "metadata": {},
   "source": [
    "### Метод переменных направлений"
   ]
  },
  {
   "cell_type": "markdown",
   "metadata": {},
   "source": [
    "$$ \\frac{u^{k + \\frac{1}{2}}_{i,j} - u^{k}_{i,j}}{\\frac{\\tau}{2}} = \\frac{a}{h_1^2} \\left (  u^{k + \\frac{1}{2}}_{i+1, j} - 2  u^{k + \\frac{1}{2}}_{i, j} +  u^{k + \\frac{1}{2}}_{i-1, j}\\right )  + \\frac{a}{h_2^2} \\left (  u^{k}_{i, j+1} - 2  u^{k}_{i, j} +  u^{k}_{i, j-1}\\right ) + f^{k + \\frac{1}{2}}_{i, j}$$"
   ]
  },
  {
   "cell_type": "markdown",
   "metadata": {},
   "source": [
    "\n",
    "$$ \\frac{u^{k + 1}_{i,j} - u^{k + \\frac{1}{2}}_{i,j}}{\\frac{\\tau}{2}} = \\frac{a}{h_1^2} \\left (  u^{k + \\frac{1}{2}}_{i+1, j} - 2  u^{k + \\frac{1}{2}}_{i, j} +  u^{k + \\frac{1}{2}}_{i-1, j}\\right )  + \\frac{a}{h_2^2} \\left (  u^{k + 1}_{i, j+1} - 2  u^{k + 1}_{i, j} +  u^{k + 1}_{i, j-1}\\right ) + f^{k + \\frac{1}{2}}_{i, j}$$"
   ]
  },
  {
   "cell_type": "code",
   "execution_count": null,
   "metadata": {},
   "outputs": [],
   "source": [
    "def changing_directions():\n",
    "    t_right = t_end\n",
    "    hx = x_right / (n_x - 1)\n",
    "    hy = y_right / (n_y - 1)\n",
    "    tau = (hx**2) / 2 / a**2 \n",
    "\n",
    "\n",
    "    X = get_x(x_left, x_right, hx)\n",
    "    Y = get_y(y_left, y_right, hy)\n",
    "    T = get_t(0, t_right, tau)\n",
    "\n",
    "\n",
    "    U_values = [[[0] * len(Y) for _ in range(len(X))] for __ in range(len(T))]\n",
    "\n",
    "    border_conds(U_values, X, Y, T, mu, hx, hy)\n",
    "    sigma_0 = (a * tau) / (2 * hx**2)\n",
    "    sigma_2 = (b* tau) / (2 * hy**2)\n",
    "    t = 0\n",
    "\n",
    "    U_tmp = [[0] * len(Y) for _ in range(len(X))]\n",
    "    A0 = [0 for _ in range(len(Y))]\n",
    "    A1 = [0 for _ in range(len(Y))]\n",
    "    A2 = [0 for _ in range(len(Y))]\n",
    "    B = [0 for _ in range(len(Y))]\n",
    "\n",
    "    for k in range(1, len(T) - 1):\n",
    "\n",
    "        t += tau / 2\n",
    "        for i in range(1, len(X) - 1):\n",
    "            for j in range(1, len(Y) - 1):\n",
    "                A0[j] = -sigma_0\n",
    "                A1[j] = 1 + 2 * sigma_0\n",
    "                A2[j] = - sigma_0\n",
    "                B[j] = f(X[i], Y[j], t, mu, a, b) * tau / 2 + sigma_2 * (U_values[k - 1][i][j + 1] - 2 * U_values[k - 1][i][j] + U_values[k - 1][i][j - 1]) + U_values[k - 1][i][j]\n",
    "        A1[0] = 1\n",
    "        A2[0] = 0\n",
    "        B[0] = phi_3(X[i], t)\n",
    "        A0[-1] = -1\n",
    "        A1[-1] = 1\n",
    "        B[-1] = phi_4(X[i], t, mu=mu)\n",
    "        U_tmp[i] = solve_PQ(A0, A1, A2, B)\n",
    "        for j in range(len(Y)):\n",
    "            U_tmp[0][j] = phi_1(Y[j], t, mu)\n",
    "            U_tmp[-1][j] = phi_2(Y[j], t, mu) * hx + U_tmp[-2][j]\n",
    "        \n",
    "        t += tau / 2\n",
    "        for j in range(1, len(Y) - 1):\n",
    "            for i in range(1, len(X) - 1):\n",
    "                A0[i] = -sigma_2\n",
    "                A1[i] = 1 + 2 * sigma_2\n",
    "                A2[i] = -sigma_2\n",
    "                B[i] = f(X[i], Y[j], t, mu, a, b) * tau / 2 + sigma_0 * (U_tmp[i][j + 1] - 2 * U_tmp[i][j] + U_tmp[i][j - 1]) + U_tmp[i][j]\n",
    "            A1[0] = 1\n",
    "            A2[0] = 0\n",
    "            B[0] = phi_1(Y[j], t, mu=mu)\n",
    "            A0[-1] = -1\n",
    "            A1[-1] = 1\n",
    "            B[-1] = phi_2(Y[j], t, mu=mu) * hx\n",
    "            u_prod = solve_PQ(A0, A1, A2, B)\n",
    "            for i in range(len(u_new)):\n",
    "                U[k][i][j] = u_new[i]\n",
    "            for i in range(len(x)):\n",
    "                U[k, i, 0] = phi_3(X[i], t, mu)\n",
    "                U[k, i, -1] = phi_4(X[i], t, mu) * hy + U[k][i][-2]\n",
    "\n",
    "\n",
    "\n",
    "    \n",
    "    return X, Y, T, U_values"
   ]
  },
  {
   "cell_type": "code",
   "execution_count": null,
   "metadata": {},
   "outputs": [],
   "source": [
    "t_right = t_end"
   ]
  },
  {
   "cell_type": "markdown",
   "metadata": {},
   "source": [
    "### Метод дробных шагов"
   ]
  },
  {
   "cell_type": "markdown",
   "metadata": {},
   "source": [
    "$$ \\frac{u^{k + \\frac{1}{2}}_{i,j} - u^{k}_{i,j}}{\\tau} = \\frac{a}{h_1^2} \\left (  u^{k + \\frac{1}{2}}_{i+1, j} - 2  u^{k + \\frac{1}{2}}_{i, j} +  u^{k + \\frac{1}{2}}_{i-1, j}\\right ) + f^{k}_{i, j}$$"
   ]
  },
  {
   "cell_type": "markdown",
   "metadata": {},
   "source": [
    "$$ \\frac{u^{k + 1}_{i,j} - u^{k + \\frac{1}{2}}_{i,j}}{\\tau} = \\frac{a}{h_2^2} \\left (  u^{k + 1}_{i, j+1} - 2  u^{k + 1}_{i, j} +  u^{k + 1}_{i, j-1}\\right ) + f^{k + 1}_{i, j}$$"
   ]
  },
  {
   "cell_type": "code",
   "execution_count": null,
   "metadata": {},
   "outputs": [],
   "source": [
    "def partial_steps():\n",
    "    return X, Y, T, U_values"
   ]
  }
 ],
 "metadata": {
  "kernelspec": {
   "display_name": "base",
   "language": "python",
   "name": "python3"
  },
  "language_info": {
   "codemirror_mode": {
    "name": "ipython",
    "version": 3
   },
   "file_extension": ".py",
   "mimetype": "text/x-python",
   "name": "python",
   "nbconvert_exporter": "python",
   "pygments_lexer": "ipython3",
   "version": "3.8.18"
  }
 },
 "nbformat": 4,
 "nbformat_minor": 2
}
