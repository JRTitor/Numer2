{
 "cells": [
  {
   "cell_type": "markdown",
   "metadata": {},
   "source": [
    "Используя схемы переменных направлений и дробных шагов, решить двумерную начально-краевую задачу для дифференциального уравнения параболического типа. В различные моменты времени вычислить погрешность численного решения путем сравнения результатов с приведенным в задании аналитическим решением  $U(x, t)$. \n",
    "\n",
    "Исследовать зависимость погрешности от сеточных параметров  $\\tau$, $h_x$, $h_y$."
   ]
  },
  {
   "cell_type": "markdown",
   "metadata": {},
   "source": [
    "$$ \\frac{\\partial u}{\\partial t} = a \\frac{\\partial^2 u}{\\partial x^2} + b \\frac{\\partial^2 u}{\\partial y^2} + \\sin{x} \\sin{y} [\\cos{\\mu t} + (a+b) \\sin{\\mu t}] $$"
   ]
  },
  {
   "cell_type": "markdown",
   "metadata": {},
   "source": [
    "$$ u(0, y, t) = 0 \\\\ u_x(\\pi, y, t) = -\\sin{y} \\sin{\\mu t}  \\\\ u(x, 0, t) = 0 \\\\  u_y(x, \\pi, t) = -\\sin{x} \\sin{\\mu t} \\\\ u(x, y, 0) = 0"
   ]
  },
  {
   "cell_type": "markdown",
   "metadata": {},
   "source": [
    "В) $a = 1, b = 2, \\mu = 1$"
   ]
  },
  {
   "cell_type": "markdown",
   "metadata": {},
   "source": [
    "аналитическое решение $$ U(x, y, t) = \\sin{x} \\sin{y} \\sin{\\mu t} $$"
   ]
  },
  {
   "cell_type": "code",
   "execution_count": 2,
   "metadata": {},
   "outputs": [],
   "source": [
    "import math\n",
    "import typing\n",
    "from typing import List\n",
    "import matplotlib.pyplot as plt\n",
    "import copy"
   ]
  },
  {
   "cell_type": "markdown",
   "metadata": {},
   "source": [
    "### Входные условия"
   ]
  },
  {
   "cell_type": "code",
   "execution_count": 3,
   "metadata": {},
   "outputs": [],
   "source": [
    "x_left = 0\n",
    "x_right = math.pi\n",
    "y_left = 0\n",
    "y_right = math.pi\n",
    "\n",
    "a = 1\n",
    "b = 2\n",
    "mu = 1"
   ]
  },
  {
   "cell_type": "code",
   "execution_count": null,
   "metadata": {},
   "outputs": [],
   "source": [
    "def phi_1(x:float, t:float, mu:float=1) -> float:\n",
    "    return 0\n",
    "\n",
    "def phi_2(x:float, t:float, mu:float=1) -> float:\n",
    "    return -math.sin(x) * math.sin(mu * t)\n",
    "\n",
    "def phi_3(y:float, t:float, mu:float=1) -> float:\n",
    "    return 0\n",
    "\n",
    "def phi_4(y:float, t:float, mu:float=1) -> float:\n",
    "    return -math.sin(y) * math.sin(mu * t)\n",
    "\n",
    "def psi(x:float, y:float, mu:float=1) -> float:\n",
    "    return 0\n",
    "\n",
    "def f(x:float, y:float, t:float, mu:float=1, a:float=1, b:float=2) -> float:\n",
    "    return math.sin(x) * math.sin(y) * (mu * math.cos(mu * t) + (a + b) * math.sin(mu * t))\n",
    "\n",
    "\n",
    "def U(x:float, y:float, t:float, mu:float=1) -> float:\n",
    "    return math.sin(x) * math.sin(y) * math.sin(mu * t)\n",
    "\n",
    "def real_U(X:List[float], Y:List[float], T:List[float]) -> List[List[List[float]]]:\n",
    "    U_true = [[[0] * len(X) for _ in range(len(Y))] for __ in range(len(T))]\n",
    "    for i in range(len(T)):\n",
    "        for k in range(len(Y)):\n",
    "            for j in range(len(X)):\n",
    "                U_true[k][j] = U(X[j], Y[k], T[i])\n",
    "    return U_true"
   ]
  },
  {
   "cell_type": "markdown",
   "metadata": {},
   "source": [
    "### Вспомогательные функиции"
   ]
  },
  {
   "cell_type": "code",
   "execution_count": null,
   "metadata": {},
   "outputs": [],
   "source": [
    "def plot_graphs(new_X:list, new_T:list, found_U:list, U_true:list, s:str='') -> None:\n",
    "    plt.plot(new_X, U_true[len(new_T) // 4 ],  label='Аналитическое решение')\n",
    "    plt.plot(new_X, found_U[len(new_T) // 4 ], label=s, linestyle='dashdot')\n",
    "    plt.plot(new_X, U_true[len(new_T) // 2 ], label='Аналитическое решение')\n",
    "    plt.plot(new_X, found_U[len(new_T) // 2 ], label=s, linestyle='dashdot')\n",
    "    plt.plot(new_X, U_true[len(new_T) - 1], label='Аналитическое решение')\n",
    "    plt.plot(new_X, found_U[len(new_T) - 1],label=s, linestyle='dashdot')\n",
    "    plt.legend()"
   ]
  },
  {
   "cell_type": "code",
   "execution_count": null,
   "metadata": {},
   "outputs": [],
   "source": [
    "'''\n",
    "I must fix dims HERE\n",
    "'''\n",
    "\n",
    "def local_error (U_my:list, U_true:list) -> float:\n",
    "    return sum([abs(a - b) for a, b in zip(U_my, U_true)])\n",
    "\n",
    "def get_error_array_with_h(N:list, x_left:float, x_right:float, y_left:float, y_right:float, a:float, b:float, c:float, d:float, \n",
    "                           find_u:typing.Callable, eps:float=0.1, n_x:float=10, n_y:float=10, omega:float=-10, for_x:bool=True)  -> (list, list): # H, error\n",
    "    \n",
    "    if for_x:\n",
    "        right = x_right\n",
    "    else:\n",
    "        right = y_right\n",
    "    H = [right/(n - 1) for n in N]\n",
    "    ERROR = []\n",
    "    for n in N:\n",
    "        if omega == -10:\n",
    "            if for_x:\n",
    "                XX, YY, UU = find_u(x_left, x_right, y_left, y_right, a, b, c, d, eps=eps, n_x=n, n_y=n_y)\n",
    "            else:\n",
    "                XX, YY, UU = find_u(x_left, x_right, y_left, y_right, a, b, c, d, eps=eps, n_x=n_x, n_y=n)\n",
    "        else:\n",
    "            if for_x:\n",
    "                XX, YY, UU = find_u(x_left, x_right, y_left, y_right, a, b, c, d=0, eps=eps, n_x=n, n_y=n_y, omega=omega)\n",
    "            else:\n",
    "                XX, YY, UU = find_u(x_left, x_right, y_left, y_right, a, b, c, d=0, eps=eps, n_x=n_x, n_y=n, omega=omega)\n",
    "        U_true = real_U(XX, YY)\n",
    "        t = len(YY) // 2\n",
    "        ERROR.append(local_error(UU[t], U_true[t]))\n",
    "    \n",
    "    return H, ERROR"
   ]
  },
  {
   "cell_type": "code",
   "execution_count": null,
   "metadata": {},
   "outputs": [],
   "source": [
    "def h_error_plot(H:list, ERROR:list, s:str=' x') -> None:\n",
    "    plt.plot(H, ERROR[::-1])\n",
    "    plt.xlabel(\"h\" + s)\n",
    "    plt.ylabel(\"error\")\n",
    "    plt.show()"
   ]
  },
  {
   "cell_type": "code",
   "execution_count": null,
   "metadata": {},
   "outputs": [],
   "source": [
    "def frange(start:float, stop:float, step:float) -> float:\n",
    "    while start < stop:\n",
    "        yield start\n",
    "        start += step"
   ]
  },
  {
   "cell_type": "code",
   "execution_count": null,
   "metadata": {},
   "outputs": [],
   "source": [
    "def get_y(y0:float, y_end:float, h:float) -> list:\n",
    "    return [i for i in frange(y0, y_end+h, h)]\n",
    "\n",
    "def get_x(x_0:float, x_l:float, h:float) -> list:\n",
    "    return [i for i in frange(x_0, x_l+h, h)]"
   ]
  }
 ],
 "metadata": {
  "kernelspec": {
   "display_name": "base",
   "language": "python",
   "name": "python3"
  },
  "language_info": {
   "codemirror_mode": {
    "name": "ipython",
    "version": 3
   },
   "file_extension": ".py",
   "mimetype": "text/x-python",
   "name": "python",
   "nbconvert_exporter": "python",
   "pygments_lexer": "ipython3",
   "version": "3.8.18"
  }
 },
 "nbformat": 4,
 "nbformat_minor": 2
}
