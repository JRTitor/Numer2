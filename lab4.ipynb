{
 "cells": [
  {
   "cell_type": "markdown",
   "metadata": {},
   "source": [
    "Используя схемы переменных направлений и дробных шагов, решить двумерную начально-краевую задачу для дифференциального уравнения параболического типа. В различные моменты времени вычислить погрешность численного решения путем сравнения результатов с приведенным в задании аналитическим решением  $U(x, t)$. \n",
    "\n",
    "Исследовать зависимость погрешности от сеточных параметров  $\\tau$, $h_x$, $h_y$."
   ]
  },
  {
   "cell_type": "markdown",
   "metadata": {},
   "source": [
    "$$ \\frac{\\partial u}{\\partial t} = a \\frac{\\partial^2 u}{\\partial x^2} + b \\frac{\\partial^2 u}{\\partial y^2} + \\sin{x} \\sin{y} [\\cos{\\mu t} + (a+b) \\sin{\\mu t}] $$"
   ]
  },
  {
   "cell_type": "markdown",
   "metadata": {},
   "source": [
    "$$ u(0, y, t) = 0 \\\\ u_x(\\pi, y, t) = -\\sin{y} \\sin{\\mu t}  \\\\ u(x, 0, t) = 0 \\\\  u_y(x, \\pi, t) = -\\sin{x} \\sin{\\mu t} \\\\ u(x, y, 0) = 0"
   ]
  },
  {
   "cell_type": "markdown",
   "metadata": {},
   "source": [
    "В) $a = 1, b = 2, \\mu = 1$"
   ]
  },
  {
   "cell_type": "markdown",
   "metadata": {},
   "source": [
    "аналитическое решение $$ U(x, y, t) = \\sin{x} \\sin{y} \\sin{\\mu t} $$"
   ]
  },
  {
   "cell_type": "code",
   "execution_count": 3,
   "metadata": {},
   "outputs": [],
   "source": [
    "import math\n",
    "import typing\n",
    "from typing import List\n",
    "import matplotlib.pyplot as plt\n",
    "import copy\n",
    "import plotly.graph_objects as go"
   ]
  },
  {
   "cell_type": "markdown",
   "metadata": {},
   "source": [
    "### Входные условия"
   ]
  },
  {
   "cell_type": "code",
   "execution_count": 4,
   "metadata": {},
   "outputs": [],
   "source": [
    "x_left = 0\n",
    "x_right = math.pi\n",
    "y_left = 0\n",
    "y_right = math.pi\n",
    "\n",
    "a = 1\n",
    "b = 2\n",
    "mu = 1"
   ]
  },
  {
   "cell_type": "code",
   "execution_count": 5,
   "metadata": {},
   "outputs": [],
   "source": [
    "def phi_1(y:float, t:float, mu:float=1) -> float:\n",
    "    return 0\n",
    "\n",
    "def phi_2(y:float, t:float, mu:float=1) -> float:\n",
    "    return -math.sin(y) * math.sin(mu * t)\n",
    "\n",
    "\n",
    "def phi_3(x:float, t:float, mu:float=1) -> float:\n",
    "    return 0\n",
    "\n",
    "def phi_4(x:float, t:float, mu:float=1) -> float:\n",
    "    return -math.sin(x) * math.sin(mu * t)\n",
    "\n",
    "def psi(x:float, y:float, mu:float=1) -> float:\n",
    "    return 0\n",
    "\n",
    "def f(x:float, y:float, t:float, mu:float=1, a:float=1, b:float=2) -> float:\n",
    "    return math.sin(x) * math.sin(y) * (mu * math.cos(mu * t) + (a + b) * math.sin(mu * t))\n",
    "\n",
    "\n",
    "def U(x:float, y:float, t:float, mu:float=1) -> float:\n",
    "    return math.sin(x) * math.sin(y) * math.sin(mu * t)\n",
    "\n",
    "def real_U(X:List[float], Y:List[float], T:List[float]) -> List[List[List[float]]]:\n",
    "    U_true = [[[0] * len(X) for _ in range(len(Y))] for __ in range(len(T))]\n",
    "    for i in range(len(T)):\n",
    "        for k in range(len(Y)):\n",
    "            for j in range(len(X)):\n",
    "                U_true[i][k][j] = U(X[j], Y[k], T[i])\n",
    "    return U_true"
   ]
  },
  {
   "cell_type": "markdown",
   "metadata": {},
   "source": [
    "### Вспомогательные функиции"
   ]
  },
  {
   "cell_type": "code",
   "execution_count": 6,
   "metadata": {},
   "outputs": [],
   "source": [
    "def plot_graphs(new_X:list, new_T:list, found_U:list, U_true:list, s:str='') -> None:\n",
    "    plt.plot(new_X, U_true[len(new_T) // 4 ],  label='Аналитическое решение')\n",
    "    plt.plot(new_X, found_U[len(new_T) // 4 ], label=s, linestyle='dashdot')\n",
    "    plt.plot(new_X, U_true[len(new_T) // 2 ], label='Аналитическое решение')\n",
    "    plt.plot(new_X, found_U[len(new_T) // 2 ], label=s, linestyle='dashdot')\n",
    "    plt.plot(new_X, U_true[len(new_T) - 1], label='Аналитическое решение')\n",
    "    plt.plot(new_X, found_U[len(new_T) - 1],label=s, linestyle='dashdot')\n",
    "    plt.legend()"
   ]
  },
  {
   "cell_type": "code",
   "execution_count": 7,
   "metadata": {},
   "outputs": [],
   "source": [
    "'''\n",
    "I must fix dims HERE\n",
    "'''\n",
    "\n",
    "def local_error (U_my:list, U_true:list) -> float:\n",
    "    return sum([(a - b) ** 2 for a, b in zip(U_my, U_true)]) / len(U_my)\n",
    "\n",
    "def get_error_array_with_h(N:list, x_left:float, x_right:float, y_left:float, y_right:float, a:float, b:float, c:float, d:float, \n",
    "                           find_u:typing.Callable, eps:float=0.1, omega:float=-10)  -> (list, list): # H, error\n",
    "    \n",
    "\n",
    "    H_x = [x_right/(n - 1) for n in N]\n",
    "    H_y = [y_right/(n - 1) for n in N]\n",
    "    ERROR = []\n",
    "    for n in N:\n",
    "        if omega == -10:\n",
    "            XX, YY, UU = find_u(x_left, x_right, y_left, y_right, a, b, c, d, eps=eps, n_x=n, n_y=n)\n",
    "        else:\n",
    "            XX, YY, UU = find_u(x_left, x_right, y_left, y_right, a, b, c, d=0, eps=eps, n_x=n, n_y=n, omega=omega)\n",
    "        U_true = real_U(XX, YY)\n",
    "        t = len(YY) // 2\n",
    "        ERROR.append(local_error(UU[t], U_true[t]))\n",
    "    \n",
    "    return H_x, H_y ,ERROR"
   ]
  },
  {
   "cell_type": "code",
   "execution_count": 8,
   "metadata": {},
   "outputs": [],
   "source": [
    "def h_error_plot(H:list, ERROR:list, s:str=' x') -> None:\n",
    "    plt.plot(H, ERROR[::-1])\n",
    "    plt.xlabel(\"h\" + s)\n",
    "    plt.ylabel(\"error\")\n",
    "    plt.show()"
   ]
  },
  {
   "cell_type": "code",
   "execution_count": 9,
   "metadata": {},
   "outputs": [],
   "source": [
    "def frange(start:float, stop:float, step:float) -> float:\n",
    "    while start < stop:\n",
    "        yield start\n",
    "        start += step"
   ]
  },
  {
   "cell_type": "code",
   "execution_count": 10,
   "metadata": {},
   "outputs": [],
   "source": [
    "def get_y(y0:float, y_end:float, h:float) -> List[float]:\n",
    "    return [i for i in frange(y0, y_end+h, h)]\n",
    "\n",
    "def get_x(x_0:float, x_l:float, h:float) -> List[float]:\n",
    "    return [i for i in frange(x_0, x_l+h, h)]\n",
    "\n",
    "def get_t(t_0:float, t_end:float, h:float) -> List[float]:\n",
    "    return [i for i in frange(t_0, t_end+h, h)]"
   ]
  },
  {
   "cell_type": "code",
   "execution_count": 11,
   "metadata": {},
   "outputs": [],
   "source": [
    "def solve_PQ(A0:list, A1:list, A2:list, B:list) -> list:\n",
    "    P = [-A2[0] / A1[0]]\n",
    "    Q = [B[0] / A1[0]]\n",
    "    for i in range(1, len(B)):\n",
    "\n",
    "        P.append(-A2[i] / (A1[i] + A0[i] * P[i - 1]))\n",
    "        Q.append((B[i] - A0[i] * Q[i - 1]) / (A1[i] + A0[i] * P[i - 1]))\n",
    "\n",
    "    res = [Q[-1]]\n",
    "\n",
    "    for i in range(len(B) - 2, -1, -1):\n",
    "        res.append(P[i] * res[-1] + Q[i])\n",
    "\n",
    "    return res[::-1]"
   ]
  },
  {
   "cell_type": "code",
   "execution_count": 12,
   "metadata": {},
   "outputs": [],
   "source": [
    "def error(U_prev:List[List[float]], U_values:List[List[float]]) -> float:\n",
    "    eps = 0\n",
    "    for i in range(len(U_values)):\n",
    "        for j in range(len(U_values[0])):\n",
    "            eps = max(eps, abs(U_prev[i][j] - U_values[i][j]))\n",
    "    return eps\n"
   ]
  },
  {
   "cell_type": "code",
   "execution_count": 21,
   "metadata": {},
   "outputs": [],
   "source": [
    "def border_conds(U_values:List[List[float]], X:List[float], Y:List[float], T:List[float], mu:float, hx:float, hy:float) -> None:\n",
    "    # for k in range(len(T)):\n",
    "    #     for i in range(len(Y)):\n",
    "    #         U_values[k][i][0] = phi_1(Y[i], T[k], mu=mu)\n",
    "    #         U_values[k][i][-1] = phi_2(Y[i], T[k], mu=mu) * hy +  U_values[k][i][-2] \n",
    "    #     for j in range(len(X)):\n",
    "    #         U_values[k][0][j] = phi_3(X[j], T[k], mu=mu) \n",
    "    #         U_values[k][-1][j] = phi_4(X[j], T[k], mu=mu) * hx + U_values[k][-2][i]\n",
    "\n",
    "    for i in range(len(Y)):\n",
    "        for i in range(len(X)):\n",
    "            U_values[0][i][j] = psi(X[j], Y[i], mu=mu)\n",
    "    for k in range(len(T)):\n",
    "        for i in range(len(X)):\n",
    "            U_values[k][i][0] = phi_3(X[i], T[k], mu=mu)\n",
    "            U_values[k][i][-1] = phi_4(X[i], T[k], mu=mu) * 2 * hy + U_values[k][i][-2]\n",
    "        for j in range(len(Y)):\n",
    "            U_values[k][0][j] = phi_1(Y[j], T[k], mu=mu)\n",
    "            U_values[k][-1][j] = phi_2(Y[j], T[k], mu=mu) * 2 * hx + U_values[k][-2][j]"
   ]
  },
  {
   "cell_type": "code",
   "execution_count": 22,
   "metadata": {},
   "outputs": [],
   "source": [
    "def initial_T(U_values:List[List[float]], X:List[float], Y:List[float], mu:float) -> None:\n",
    "    for i in range(len(Y)):\n",
    "        for i in range(len(X)):\n",
    "            U_values[0][i][j] = psi(X[j], Y[i], mu=mu)"
   ]
  },
  {
   "cell_type": "markdown",
   "metadata": {},
   "source": [
    "### Метод переменных направлений"
   ]
  },
  {
   "cell_type": "markdown",
   "metadata": {},
   "source": [
    "$$ \\frac{u^{k + \\frac{1}{2}}_{i,j} - u^{k}_{i,j}}{\\frac{\\tau}{2}} = \\frac{a}{h_1^2} \\left (  u^{k + \\frac{1}{2}}_{i+1, j} - 2  u^{k + \\frac{1}{2}}_{i, j} +  u^{k + \\frac{1}{2}}_{i-1, j}\\right )  + \\frac{b}{h_2^2} \\left (  u^{k}_{i, j+1} - 2  u^{k}_{i, j} +  u^{k}_{i, j-1}\\right ) + f^{k + \\frac{1}{2}}_{i, j}$$\n",
    "идём по j = $1 .. y_l - h_y$ по x неявно, по y явно"
   ]
  },
  {
   "cell_type": "markdown",
   "metadata": {},
   "source": [
    "\n",
    "$$ \\frac{u^{k + 1}_{i,j} - u^{k + \\frac{1}{2}}_{i,j}}{\\frac{\\tau}{2}} = \\frac{a}{h_1^2} \\left (  u^{k + \\frac{1}{2}}_{i+1, j} - 2  u^{k + \\frac{1}{2}}_{i, j} +  u^{k + \\frac{1}{2}}_{i-1, j}\\right )  + \\frac{b}{h_2^2} \\left (  u^{k + 1}_{i, j+1} - 2  u^{k + 1}_{i, j} +  u^{k + 1}_{i, j-1}\\right ) + f^{k + \\frac{1}{2}}_{i, j}$$\n",
    "\n",
    "идём по i = $1 .. x_l - h_x$ по x явно, по y неявно"
   ]
  },
  {
   "cell_type": "code",
   "execution_count": 14,
   "metadata": {},
   "outputs": [],
   "source": [
    "def changing_directions(x_left:float, x_right:float, y_left:float, y_right:float, a:float, b:float, mu:float, \n",
    "                        n_x:float=10, n_y:float=10, t_end:float=1) -> (List[float], List[float], List[List[float]], List[List[float]]):\n",
    "    t_right = t_end\n",
    "    hx = x_right / (n_x - 1)\n",
    "    hy = y_right / (n_y - 1)\n",
    "    tau = (hx**2) / 2 / a**2 \n",
    "\n",
    "\n",
    "    X = get_x(x_left, x_right, hx)\n",
    "    Y = get_y(y_left, y_right, hy)\n",
    "    T = get_t(0, t_right, tau)\n",
    "\n",
    "\n",
    "    U_values = [[[0] * len(Y) for _ in range(len(X))] for __ in range(len(T))]\n",
    "    sigma_x = (a * tau) / hx**2\n",
    "    sigma_y = (b * tau) / hy**2\n",
    "    #border_conds(U_values, X, Y, T, mu, hx, hy)\n",
    "    #initial_T(U_values)\n",
    "    A0 = [0 for _ in range(len(X))]\n",
    "    A1 = [0 for _ in range(len(X))]\n",
    "    A2 = [0 for _ in range(len(X))]\n",
    "    B = [0 for _ in range(len(X))]\n",
    "    for k in range(1, len(T)):\n",
    "        U_part = [[0 for _ in range(len(X))] for _ in range(len(Y))]\n",
    "        t_part = T[k-1] + tau/2\n",
    "        for i in range(1, len(X) - 1):\n",
    "            #A0[0] = 0\n",
    "            #тут не уверен, надо бует пересмотреть\n",
    "            A1[0] = 1\n",
    "            A2[0] = 0\n",
    "            B[0] = 0#phi_3(X[j], t_part, mu=mu) \n",
    "            for j in range(1, len(Y) - 1):\n",
    "                A0[i] = - sigma_x\n",
    "                A1[i] = 1 + 2 * sigma_x\n",
    "                A2[i] = - sigma_x\n",
    "                B[i] = f(X[i], Y[j], t_part, mu=mu) * tau / 2 + sigma_y ....# дописать еще штук\n",
    "            A0[-1] = -1\n",
    "            A1[-1] =  1\n",
    "            #A2[-1] = 0 \n",
    "            B[-1] = 0#phi_4(Y[j], t_part, mu=mu) * 2 * hy + U_values[k][-2][-1] ### тут надо подумать что брать U_values\n",
    "            tmp_res = solve_PQ(A0, A1, A2, B)\n",
    "\n",
    "            \n",
    "            U_part = tmp_res\n",
    "            # добавляем начальные значения и граничные\n",
    "        t_part += tau/2\n",
    "        for j in range(1, len(Y) - 1):\n",
    "            A1[0] = 1\n",
    "            A2[0] = 0\n",
    "            B[0] = 0#phi_1(Y[j], t_part, mu=mu)\n",
    "            for i in range(1, len(X) - 1):\n",
    "                A0[i] = - sigma_y\n",
    "                A1[i] = 1 + 2 * sigma_y\n",
    "                A2[i] = - sigma_y\n",
    "                B[i] = f(X[i], Y[j], t_part - tau/2, mu=mu) * tau / 2 + sigma_x ... # дописать еще штук U_part\n",
    "            A0[-1] = -1\n",
    "            A1[-1] =  1\n",
    "            #A2[-1] = 0 \n",
    "            B[-1] = 0#phi_2(X[j], t_part, mu=mu) * 2 * hx + U_values[k][-2][-1] # аналогично предидущему варианту с шраниццами\n",
    "            tmp_res = solve_PQ(A0, A1, A2, B) # езультат, заносим в U_values\n",
    "\n",
    "            \n",
    "    \n",
    "\n",
    "\n",
    "    \n",
    "    return X, Y, T, U_values"
   ]
  },
  {
   "cell_type": "code",
   "execution_count": 15,
   "metadata": {},
   "outputs": [],
   "source": [
    "X, Y, T, UU = changing_directions(x_left, x_right, y_left, y_right, a, b, mu, n_x=10, n_y=10, t_end=1)\n",
    "U_true = real_U(X, Y, T)"
   ]
  },
  {
   "cell_type": "code",
   "execution_count": 18,
   "metadata": {},
   "outputs": [
    {
     "data": {
      "application/vnd.plotly.v1+json": {
       "config": {
        "plotlyServerURL": "https://plot.ly"
       },
       "data": [
        {
         "type": "surface",
         "x": [
          0,
          0.3490658503988659,
          0.6981317007977318,
          1.0471975511965976,
          1.3962634015954636,
          1.7453292519943295,
          2.0943951023931953,
          2.443460952792061,
          2.792526803190927,
          3.141592653589793
         ],
         "y": [
          0,
          0.3490658503988659,
          0.6981317007977318,
          1.0471975511965976,
          1.3962634015954636,
          1.7453292519943295,
          2.0943951023931953,
          2.443460952792061,
          2.792526803190927,
          3.141592653589793
         ],
         "z": [
          [
           0,
           0,
           0,
           0,
           0,
           0,
           0,
           0,
           0,
           0
          ],
          [
           0,
           0,
           0,
           0,
           0,
           0,
           0,
           0,
           0,
           -0.20539891013243483
          ],
          [
           0,
           0,
           0,
           0,
           0,
           0,
           0,
           0,
           0,
           -0.3860236803378339
          ],
          [
           0,
           0,
           0,
           0,
           0,
           0,
           0,
           0,
           0,
           -0.520088297591727
          ],
          [
           0,
           0,
           0,
           0,
           0,
           0,
           0,
           0,
           0,
           -0.5914225904702688
          ],
          [
           0,
           0,
           0,
           0,
           0,
           0,
           0,
           0,
           0,
           -0.5914225904702688
          ],
          [
           0,
           0,
           0,
           0,
           0,
           0,
           0,
           0,
           0,
           -0.5200882975917271
          ],
          [
           0,
           0,
           0,
           0,
           0,
           0,
           0,
           0,
           0,
           -0.3860236803378341
          ],
          [
           0,
           0,
           0,
           0,
           0,
           0,
           0,
           0,
           0,
           -0.20539891013243497
          ],
          [
           0,
           -0.20539891013243483,
           -0.3860236803378339,
           -0.520088297591727,
           -0.5914225904702688,
           -0.5914225904702688,
           -0.5200882975917271,
           -0.3860236803378341,
           -0.20539891013243497,
           -0.20539891013243505
          ]
         ]
        }
       ],
       "layout": {
        "template": {
         "data": {
          "bar": [
           {
            "error_x": {
             "color": "#2a3f5f"
            },
            "error_y": {
             "color": "#2a3f5f"
            },
            "marker": {
             "line": {
              "color": "#E5ECF6",
              "width": 0.5
             },
             "pattern": {
              "fillmode": "overlay",
              "size": 10,
              "solidity": 0.2
             }
            },
            "type": "bar"
           }
          ],
          "barpolar": [
           {
            "marker": {
             "line": {
              "color": "#E5ECF6",
              "width": 0.5
             },
             "pattern": {
              "fillmode": "overlay",
              "size": 10,
              "solidity": 0.2
             }
            },
            "type": "barpolar"
           }
          ],
          "carpet": [
           {
            "aaxis": {
             "endlinecolor": "#2a3f5f",
             "gridcolor": "white",
             "linecolor": "white",
             "minorgridcolor": "white",
             "startlinecolor": "#2a3f5f"
            },
            "baxis": {
             "endlinecolor": "#2a3f5f",
             "gridcolor": "white",
             "linecolor": "white",
             "minorgridcolor": "white",
             "startlinecolor": "#2a3f5f"
            },
            "type": "carpet"
           }
          ],
          "choropleth": [
           {
            "colorbar": {
             "outlinewidth": 0,
             "ticks": ""
            },
            "type": "choropleth"
           }
          ],
          "contour": [
           {
            "colorbar": {
             "outlinewidth": 0,
             "ticks": ""
            },
            "colorscale": [
             [
              0,
              "#0d0887"
             ],
             [
              0.1111111111111111,
              "#46039f"
             ],
             [
              0.2222222222222222,
              "#7201a8"
             ],
             [
              0.3333333333333333,
              "#9c179e"
             ],
             [
              0.4444444444444444,
              "#bd3786"
             ],
             [
              0.5555555555555556,
              "#d8576b"
             ],
             [
              0.6666666666666666,
              "#ed7953"
             ],
             [
              0.7777777777777778,
              "#fb9f3a"
             ],
             [
              0.8888888888888888,
              "#fdca26"
             ],
             [
              1,
              "#f0f921"
             ]
            ],
            "type": "contour"
           }
          ],
          "contourcarpet": [
           {
            "colorbar": {
             "outlinewidth": 0,
             "ticks": ""
            },
            "type": "contourcarpet"
           }
          ],
          "heatmap": [
           {
            "colorbar": {
             "outlinewidth": 0,
             "ticks": ""
            },
            "colorscale": [
             [
              0,
              "#0d0887"
             ],
             [
              0.1111111111111111,
              "#46039f"
             ],
             [
              0.2222222222222222,
              "#7201a8"
             ],
             [
              0.3333333333333333,
              "#9c179e"
             ],
             [
              0.4444444444444444,
              "#bd3786"
             ],
             [
              0.5555555555555556,
              "#d8576b"
             ],
             [
              0.6666666666666666,
              "#ed7953"
             ],
             [
              0.7777777777777778,
              "#fb9f3a"
             ],
             [
              0.8888888888888888,
              "#fdca26"
             ],
             [
              1,
              "#f0f921"
             ]
            ],
            "type": "heatmap"
           }
          ],
          "heatmapgl": [
           {
            "colorbar": {
             "outlinewidth": 0,
             "ticks": ""
            },
            "colorscale": [
             [
              0,
              "#0d0887"
             ],
             [
              0.1111111111111111,
              "#46039f"
             ],
             [
              0.2222222222222222,
              "#7201a8"
             ],
             [
              0.3333333333333333,
              "#9c179e"
             ],
             [
              0.4444444444444444,
              "#bd3786"
             ],
             [
              0.5555555555555556,
              "#d8576b"
             ],
             [
              0.6666666666666666,
              "#ed7953"
             ],
             [
              0.7777777777777778,
              "#fb9f3a"
             ],
             [
              0.8888888888888888,
              "#fdca26"
             ],
             [
              1,
              "#f0f921"
             ]
            ],
            "type": "heatmapgl"
           }
          ],
          "histogram": [
           {
            "marker": {
             "pattern": {
              "fillmode": "overlay",
              "size": 10,
              "solidity": 0.2
             }
            },
            "type": "histogram"
           }
          ],
          "histogram2d": [
           {
            "colorbar": {
             "outlinewidth": 0,
             "ticks": ""
            },
            "colorscale": [
             [
              0,
              "#0d0887"
             ],
             [
              0.1111111111111111,
              "#46039f"
             ],
             [
              0.2222222222222222,
              "#7201a8"
             ],
             [
              0.3333333333333333,
              "#9c179e"
             ],
             [
              0.4444444444444444,
              "#bd3786"
             ],
             [
              0.5555555555555556,
              "#d8576b"
             ],
             [
              0.6666666666666666,
              "#ed7953"
             ],
             [
              0.7777777777777778,
              "#fb9f3a"
             ],
             [
              0.8888888888888888,
              "#fdca26"
             ],
             [
              1,
              "#f0f921"
             ]
            ],
            "type": "histogram2d"
           }
          ],
          "histogram2dcontour": [
           {
            "colorbar": {
             "outlinewidth": 0,
             "ticks": ""
            },
            "colorscale": [
             [
              0,
              "#0d0887"
             ],
             [
              0.1111111111111111,
              "#46039f"
             ],
             [
              0.2222222222222222,
              "#7201a8"
             ],
             [
              0.3333333333333333,
              "#9c179e"
             ],
             [
              0.4444444444444444,
              "#bd3786"
             ],
             [
              0.5555555555555556,
              "#d8576b"
             ],
             [
              0.6666666666666666,
              "#ed7953"
             ],
             [
              0.7777777777777778,
              "#fb9f3a"
             ],
             [
              0.8888888888888888,
              "#fdca26"
             ],
             [
              1,
              "#f0f921"
             ]
            ],
            "type": "histogram2dcontour"
           }
          ],
          "mesh3d": [
           {
            "colorbar": {
             "outlinewidth": 0,
             "ticks": ""
            },
            "type": "mesh3d"
           }
          ],
          "parcoords": [
           {
            "line": {
             "colorbar": {
              "outlinewidth": 0,
              "ticks": ""
             }
            },
            "type": "parcoords"
           }
          ],
          "pie": [
           {
            "automargin": true,
            "type": "pie"
           }
          ],
          "scatter": [
           {
            "fillpattern": {
             "fillmode": "overlay",
             "size": 10,
             "solidity": 0.2
            },
            "type": "scatter"
           }
          ],
          "scatter3d": [
           {
            "line": {
             "colorbar": {
              "outlinewidth": 0,
              "ticks": ""
             }
            },
            "marker": {
             "colorbar": {
              "outlinewidth": 0,
              "ticks": ""
             }
            },
            "type": "scatter3d"
           }
          ],
          "scattercarpet": [
           {
            "marker": {
             "colorbar": {
              "outlinewidth": 0,
              "ticks": ""
             }
            },
            "type": "scattercarpet"
           }
          ],
          "scattergeo": [
           {
            "marker": {
             "colorbar": {
              "outlinewidth": 0,
              "ticks": ""
             }
            },
            "type": "scattergeo"
           }
          ],
          "scattergl": [
           {
            "marker": {
             "colorbar": {
              "outlinewidth": 0,
              "ticks": ""
             }
            },
            "type": "scattergl"
           }
          ],
          "scattermapbox": [
           {
            "marker": {
             "colorbar": {
              "outlinewidth": 0,
              "ticks": ""
             }
            },
            "type": "scattermapbox"
           }
          ],
          "scatterpolar": [
           {
            "marker": {
             "colorbar": {
              "outlinewidth": 0,
              "ticks": ""
             }
            },
            "type": "scatterpolar"
           }
          ],
          "scatterpolargl": [
           {
            "marker": {
             "colorbar": {
              "outlinewidth": 0,
              "ticks": ""
             }
            },
            "type": "scatterpolargl"
           }
          ],
          "scatterternary": [
           {
            "marker": {
             "colorbar": {
              "outlinewidth": 0,
              "ticks": ""
             }
            },
            "type": "scatterternary"
           }
          ],
          "surface": [
           {
            "colorbar": {
             "outlinewidth": 0,
             "ticks": ""
            },
            "colorscale": [
             [
              0,
              "#0d0887"
             ],
             [
              0.1111111111111111,
              "#46039f"
             ],
             [
              0.2222222222222222,
              "#7201a8"
             ],
             [
              0.3333333333333333,
              "#9c179e"
             ],
             [
              0.4444444444444444,
              "#bd3786"
             ],
             [
              0.5555555555555556,
              "#d8576b"
             ],
             [
              0.6666666666666666,
              "#ed7953"
             ],
             [
              0.7777777777777778,
              "#fb9f3a"
             ],
             [
              0.8888888888888888,
              "#fdca26"
             ],
             [
              1,
              "#f0f921"
             ]
            ],
            "type": "surface"
           }
          ],
          "table": [
           {
            "cells": {
             "fill": {
              "color": "#EBF0F8"
             },
             "line": {
              "color": "white"
             }
            },
            "header": {
             "fill": {
              "color": "#C8D4E3"
             },
             "line": {
              "color": "white"
             }
            },
            "type": "table"
           }
          ]
         },
         "layout": {
          "annotationdefaults": {
           "arrowcolor": "#2a3f5f",
           "arrowhead": 0,
           "arrowwidth": 1
          },
          "autotypenumbers": "strict",
          "coloraxis": {
           "colorbar": {
            "outlinewidth": 0,
            "ticks": ""
           }
          },
          "colorscale": {
           "diverging": [
            [
             0,
             "#8e0152"
            ],
            [
             0.1,
             "#c51b7d"
            ],
            [
             0.2,
             "#de77ae"
            ],
            [
             0.3,
             "#f1b6da"
            ],
            [
             0.4,
             "#fde0ef"
            ],
            [
             0.5,
             "#f7f7f7"
            ],
            [
             0.6,
             "#e6f5d0"
            ],
            [
             0.7,
             "#b8e186"
            ],
            [
             0.8,
             "#7fbc41"
            ],
            [
             0.9,
             "#4d9221"
            ],
            [
             1,
             "#276419"
            ]
           ],
           "sequential": [
            [
             0,
             "#0d0887"
            ],
            [
             0.1111111111111111,
             "#46039f"
            ],
            [
             0.2222222222222222,
             "#7201a8"
            ],
            [
             0.3333333333333333,
             "#9c179e"
            ],
            [
             0.4444444444444444,
             "#bd3786"
            ],
            [
             0.5555555555555556,
             "#d8576b"
            ],
            [
             0.6666666666666666,
             "#ed7953"
            ],
            [
             0.7777777777777778,
             "#fb9f3a"
            ],
            [
             0.8888888888888888,
             "#fdca26"
            ],
            [
             1,
             "#f0f921"
            ]
           ],
           "sequentialminus": [
            [
             0,
             "#0d0887"
            ],
            [
             0.1111111111111111,
             "#46039f"
            ],
            [
             0.2222222222222222,
             "#7201a8"
            ],
            [
             0.3333333333333333,
             "#9c179e"
            ],
            [
             0.4444444444444444,
             "#bd3786"
            ],
            [
             0.5555555555555556,
             "#d8576b"
            ],
            [
             0.6666666666666666,
             "#ed7953"
            ],
            [
             0.7777777777777778,
             "#fb9f3a"
            ],
            [
             0.8888888888888888,
             "#fdca26"
            ],
            [
             1,
             "#f0f921"
            ]
           ]
          },
          "colorway": [
           "#636efa",
           "#EF553B",
           "#00cc96",
           "#ab63fa",
           "#FFA15A",
           "#19d3f3",
           "#FF6692",
           "#B6E880",
           "#FF97FF",
           "#FECB52"
          ],
          "font": {
           "color": "#2a3f5f"
          },
          "geo": {
           "bgcolor": "white",
           "lakecolor": "white",
           "landcolor": "#E5ECF6",
           "showlakes": true,
           "showland": true,
           "subunitcolor": "white"
          },
          "hoverlabel": {
           "align": "left"
          },
          "hovermode": "closest",
          "mapbox": {
           "style": "light"
          },
          "paper_bgcolor": "white",
          "plot_bgcolor": "#E5ECF6",
          "polar": {
           "angularaxis": {
            "gridcolor": "white",
            "linecolor": "white",
            "ticks": ""
           },
           "bgcolor": "#E5ECF6",
           "radialaxis": {
            "gridcolor": "white",
            "linecolor": "white",
            "ticks": ""
           }
          },
          "scene": {
           "xaxis": {
            "backgroundcolor": "#E5ECF6",
            "gridcolor": "white",
            "gridwidth": 2,
            "linecolor": "white",
            "showbackground": true,
            "ticks": "",
            "zerolinecolor": "white"
           },
           "yaxis": {
            "backgroundcolor": "#E5ECF6",
            "gridcolor": "white",
            "gridwidth": 2,
            "linecolor": "white",
            "showbackground": true,
            "ticks": "",
            "zerolinecolor": "white"
           },
           "zaxis": {
            "backgroundcolor": "#E5ECF6",
            "gridcolor": "white",
            "gridwidth": 2,
            "linecolor": "white",
            "showbackground": true,
            "ticks": "",
            "zerolinecolor": "white"
           }
          },
          "shapedefaults": {
           "line": {
            "color": "#2a3f5f"
           }
          },
          "ternary": {
           "aaxis": {
            "gridcolor": "white",
            "linecolor": "white",
            "ticks": ""
           },
           "baxis": {
            "gridcolor": "white",
            "linecolor": "white",
            "ticks": ""
           },
           "bgcolor": "#E5ECF6",
           "caxis": {
            "gridcolor": "white",
            "linecolor": "white",
            "ticks": ""
           }
          },
          "title": {
           "x": 0.05
          },
          "xaxis": {
           "automargin": true,
           "gridcolor": "white",
           "linecolor": "white",
           "ticks": "",
           "title": {
            "standoff": 15
           },
           "zerolinecolor": "white",
           "zerolinewidth": 2
          },
          "yaxis": {
           "automargin": true,
           "gridcolor": "white",
           "linecolor": "white",
           "ticks": "",
           "title": {
            "standoff": 15
           },
           "zerolinecolor": "white",
           "zerolinewidth": 2
          }
         }
        }
       }
      }
     },
     "metadata": {},
     "output_type": "display_data"
    }
   ],
   "source": [
    "fig = go.Figure(data=[go.Surface(z=UU[-1], x=X, y=Y)])\n",
    "fig.show()\n"
   ]
  },
  {
   "cell_type": "code",
   "execution_count": 19,
   "metadata": {},
   "outputs": [
    {
     "data": {
      "text/plain": [
       "[[0, 0, 0, 0, 0, 0, 0, 0, 0, 0],\n",
       " [0, 0, 0, 0, 0, 0, 0, 0, 0, -0.20539891013243483],\n",
       " [0, 0, 0, 0, 0, 0, 0, 0, 0, -0.3860236803378339],\n",
       " [0, 0, 0, 0, 0, 0, 0, 0, 0, -0.520088297591727],\n",
       " [0, 0, 0, 0, 0, 0, 0, 0, 0, -0.5914225904702688],\n",
       " [0, 0, 0, 0, 0, 0, 0, 0, 0, -0.5914225904702688],\n",
       " [0, 0, 0, 0, 0, 0, 0, 0, 0, -0.5200882975917271],\n",
       " [0, 0, 0, 0, 0, 0, 0, 0, 0, -0.3860236803378341],\n",
       " [0, 0, 0, 0, 0, 0, 0, 0, 0, -0.20539891013243497],\n",
       " [0.0,\n",
       "  -0.20539891013243483,\n",
       "  -0.3860236803378339,\n",
       "  -0.520088297591727,\n",
       "  -0.5914225904702688,\n",
       "  -0.5914225904702688,\n",
       "  -0.5200882975917271,\n",
       "  -0.3860236803378341,\n",
       "  -0.20539891013243497,\n",
       "  -0.20539891013243505]]"
      ]
     },
     "execution_count": 19,
     "metadata": {},
     "output_type": "execute_result"
    }
   ],
   "source": [
    "UU[-1]"
   ]
  },
  {
   "cell_type": "code",
   "execution_count": 20,
   "metadata": {},
   "outputs": [
    {
     "data": {
      "text/plain": [
       "[[0.0, 0.0, 0.0, 0.0, 0.0, 0.0, 0.0, 0.0, 0.0, 0.0],\n",
       " [0.0,\n",
       "  0.10062652161785311,\n",
       "  0.1891159996393005,\n",
       "  0.2547952970493493,\n",
       "  0.2897425212571536,\n",
       "  0.2897425212571536,\n",
       "  0.25479529704934933,\n",
       "  0.18911599963930056,\n",
       "  0.10062652161785315,\n",
       "  3.603061106587963e-17],\n",
       " [0.0,\n",
       "  0.1891159996393005,\n",
       "  0.35542181866720235,\n",
       "  0.4788585208964541,\n",
       "  0.5445378183065029,\n",
       "  0.5445378183065029,\n",
       "  0.4788585208964542,\n",
       "  0.35542181866720246,\n",
       "  0.1891159996393006,\n",
       "  6.771539868202835e-17],\n",
       " [0.0,\n",
       "  0.2547952970493493,\n",
       "  0.4788585208964541,\n",
       "  0.645164339924356,\n",
       "  0.7336538179458034,\n",
       "  0.7336538179458034,\n",
       "  0.6451643399243561,\n",
       "  0.47885852089645425,\n",
       "  0.25479529704934945,\n",
       "  9.123270984427612e-17],\n",
       " [0.0,\n",
       "  0.2897425212571536,\n",
       "  0.5445378183065029,\n",
       "  0.7336538179458034,\n",
       "  0.8342803395636565,\n",
       "  0.8342803395636565,\n",
       "  0.7336538179458035,\n",
       "  0.544537818306503,\n",
       "  0.2897425212571538,\n",
       "  1.0374600974790797e-16],\n",
       " [0.0,\n",
       "  0.2897425212571536,\n",
       "  0.5445378183065029,\n",
       "  0.7336538179458034,\n",
       "  0.8342803395636565,\n",
       "  0.8342803395636565,\n",
       "  0.7336538179458035,\n",
       "  0.544537818306503,\n",
       "  0.2897425212571538,\n",
       "  1.0374600974790797e-16],\n",
       " [0.0,\n",
       "  0.25479529704934933,\n",
       "  0.4788585208964542,\n",
       "  0.6451643399243561,\n",
       "  0.7336538179458035,\n",
       "  0.7336538179458035,\n",
       "  0.6451643399243562,\n",
       "  0.47885852089645436,\n",
       "  0.25479529704934945,\n",
       "  9.123270984427613e-17],\n",
       " [0.0,\n",
       "  0.18911599963930056,\n",
       "  0.35542181866720246,\n",
       "  0.47885852089645425,\n",
       "  0.544537818306503,\n",
       "  0.544537818306503,\n",
       "  0.47885852089645436,\n",
       "  0.3554218186672026,\n",
       "  0.18911599963930065,\n",
       "  6.771539868202838e-17],\n",
       " [0.0,\n",
       "  0.10062652161785315,\n",
       "  0.1891159996393006,\n",
       "  0.25479529704934945,\n",
       "  0.2897425212571538,\n",
       "  0.2897425212571538,\n",
       "  0.25479529704934945,\n",
       "  0.18911599963930065,\n",
       "  0.10062652161785321,\n",
       "  3.603061106587965e-17],\n",
       " [0.0,\n",
       "  3.603061106587963e-17,\n",
       "  6.771539868202835e-17,\n",
       "  9.123270984427612e-17,\n",
       "  1.0374600974790797e-16,\n",
       "  1.0374600974790797e-16,\n",
       "  9.123270984427613e-17,\n",
       "  6.771539868202838e-17,\n",
       "  3.603061106587965e-17,\n",
       "  1.2901220403015108e-32]]"
      ]
     },
     "execution_count": 20,
     "metadata": {},
     "output_type": "execute_result"
    }
   ],
   "source": [
    "U_true[-1]"
   ]
  },
  {
   "cell_type": "code",
   "execution_count": 17,
   "metadata": {},
   "outputs": [
    {
     "data": {
      "application/vnd.plotly.v1+json": {
       "config": {
        "plotlyServerURL": "https://plot.ly"
       },
       "data": [
        {
         "type": "surface",
         "x": [
          0,
          0.3490658503988659,
          0.6981317007977318,
          1.0471975511965976,
          1.3962634015954636,
          1.7453292519943295,
          2.0943951023931953,
          2.443460952792061,
          2.792526803190927,
          3.141592653589793
         ],
         "y": [
          0,
          0.3490658503988659,
          0.6981317007977318,
          1.0471975511965976,
          1.3962634015954636,
          1.7453292519943295,
          2.0943951023931953,
          2.443460952792061,
          2.792526803190927,
          3.141592653589793
         ],
         "z": [
          [
           0,
           0,
           0,
           0,
           0,
           0,
           0,
           0,
           0,
           0
          ],
          [
           0,
           0.10062652161785311,
           0.1891159996393005,
           0.2547952970493493,
           0.2897425212571536,
           0.2897425212571536,
           0.25479529704934933,
           0.18911599963930056,
           0.10062652161785315,
           3.603061106587963e-17
          ],
          [
           0,
           0.1891159996393005,
           0.35542181866720235,
           0.4788585208964541,
           0.5445378183065029,
           0.5445378183065029,
           0.4788585208964542,
           0.35542181866720246,
           0.1891159996393006,
           6.771539868202835e-17
          ],
          [
           0,
           0.2547952970493493,
           0.4788585208964541,
           0.645164339924356,
           0.7336538179458034,
           0.7336538179458034,
           0.6451643399243561,
           0.47885852089645425,
           0.25479529704934945,
           9.123270984427612e-17
          ],
          [
           0,
           0.2897425212571536,
           0.5445378183065029,
           0.7336538179458034,
           0.8342803395636565,
           0.8342803395636565,
           0.7336538179458035,
           0.544537818306503,
           0.2897425212571538,
           1.0374600974790797e-16
          ],
          [
           0,
           0.2897425212571536,
           0.5445378183065029,
           0.7336538179458034,
           0.8342803395636565,
           0.8342803395636565,
           0.7336538179458035,
           0.544537818306503,
           0.2897425212571538,
           1.0374600974790797e-16
          ],
          [
           0,
           0.25479529704934933,
           0.4788585208964542,
           0.6451643399243561,
           0.7336538179458035,
           0.7336538179458035,
           0.6451643399243562,
           0.47885852089645436,
           0.25479529704934945,
           9.123270984427613e-17
          ],
          [
           0,
           0.18911599963930056,
           0.35542181866720246,
           0.47885852089645425,
           0.544537818306503,
           0.544537818306503,
           0.47885852089645436,
           0.3554218186672026,
           0.18911599963930065,
           6.771539868202838e-17
          ],
          [
           0,
           0.10062652161785315,
           0.1891159996393006,
           0.25479529704934945,
           0.2897425212571538,
           0.2897425212571538,
           0.25479529704934945,
           0.18911599963930065,
           0.10062652161785321,
           3.603061106587965e-17
          ],
          [
           0,
           3.603061106587963e-17,
           6.771539868202835e-17,
           9.123270984427612e-17,
           1.0374600974790797e-16,
           1.0374600974790797e-16,
           9.123270984427613e-17,
           6.771539868202838e-17,
           3.603061106587965e-17,
           1.2901220403015108e-32
          ]
         ]
        }
       ],
       "layout": {
        "template": {
         "data": {
          "bar": [
           {
            "error_x": {
             "color": "#2a3f5f"
            },
            "error_y": {
             "color": "#2a3f5f"
            },
            "marker": {
             "line": {
              "color": "#E5ECF6",
              "width": 0.5
             },
             "pattern": {
              "fillmode": "overlay",
              "size": 10,
              "solidity": 0.2
             }
            },
            "type": "bar"
           }
          ],
          "barpolar": [
           {
            "marker": {
             "line": {
              "color": "#E5ECF6",
              "width": 0.5
             },
             "pattern": {
              "fillmode": "overlay",
              "size": 10,
              "solidity": 0.2
             }
            },
            "type": "barpolar"
           }
          ],
          "carpet": [
           {
            "aaxis": {
             "endlinecolor": "#2a3f5f",
             "gridcolor": "white",
             "linecolor": "white",
             "minorgridcolor": "white",
             "startlinecolor": "#2a3f5f"
            },
            "baxis": {
             "endlinecolor": "#2a3f5f",
             "gridcolor": "white",
             "linecolor": "white",
             "minorgridcolor": "white",
             "startlinecolor": "#2a3f5f"
            },
            "type": "carpet"
           }
          ],
          "choropleth": [
           {
            "colorbar": {
             "outlinewidth": 0,
             "ticks": ""
            },
            "type": "choropleth"
           }
          ],
          "contour": [
           {
            "colorbar": {
             "outlinewidth": 0,
             "ticks": ""
            },
            "colorscale": [
             [
              0,
              "#0d0887"
             ],
             [
              0.1111111111111111,
              "#46039f"
             ],
             [
              0.2222222222222222,
              "#7201a8"
             ],
             [
              0.3333333333333333,
              "#9c179e"
             ],
             [
              0.4444444444444444,
              "#bd3786"
             ],
             [
              0.5555555555555556,
              "#d8576b"
             ],
             [
              0.6666666666666666,
              "#ed7953"
             ],
             [
              0.7777777777777778,
              "#fb9f3a"
             ],
             [
              0.8888888888888888,
              "#fdca26"
             ],
             [
              1,
              "#f0f921"
             ]
            ],
            "type": "contour"
           }
          ],
          "contourcarpet": [
           {
            "colorbar": {
             "outlinewidth": 0,
             "ticks": ""
            },
            "type": "contourcarpet"
           }
          ],
          "heatmap": [
           {
            "colorbar": {
             "outlinewidth": 0,
             "ticks": ""
            },
            "colorscale": [
             [
              0,
              "#0d0887"
             ],
             [
              0.1111111111111111,
              "#46039f"
             ],
             [
              0.2222222222222222,
              "#7201a8"
             ],
             [
              0.3333333333333333,
              "#9c179e"
             ],
             [
              0.4444444444444444,
              "#bd3786"
             ],
             [
              0.5555555555555556,
              "#d8576b"
             ],
             [
              0.6666666666666666,
              "#ed7953"
             ],
             [
              0.7777777777777778,
              "#fb9f3a"
             ],
             [
              0.8888888888888888,
              "#fdca26"
             ],
             [
              1,
              "#f0f921"
             ]
            ],
            "type": "heatmap"
           }
          ],
          "heatmapgl": [
           {
            "colorbar": {
             "outlinewidth": 0,
             "ticks": ""
            },
            "colorscale": [
             [
              0,
              "#0d0887"
             ],
             [
              0.1111111111111111,
              "#46039f"
             ],
             [
              0.2222222222222222,
              "#7201a8"
             ],
             [
              0.3333333333333333,
              "#9c179e"
             ],
             [
              0.4444444444444444,
              "#bd3786"
             ],
             [
              0.5555555555555556,
              "#d8576b"
             ],
             [
              0.6666666666666666,
              "#ed7953"
             ],
             [
              0.7777777777777778,
              "#fb9f3a"
             ],
             [
              0.8888888888888888,
              "#fdca26"
             ],
             [
              1,
              "#f0f921"
             ]
            ],
            "type": "heatmapgl"
           }
          ],
          "histogram": [
           {
            "marker": {
             "pattern": {
              "fillmode": "overlay",
              "size": 10,
              "solidity": 0.2
             }
            },
            "type": "histogram"
           }
          ],
          "histogram2d": [
           {
            "colorbar": {
             "outlinewidth": 0,
             "ticks": ""
            },
            "colorscale": [
             [
              0,
              "#0d0887"
             ],
             [
              0.1111111111111111,
              "#46039f"
             ],
             [
              0.2222222222222222,
              "#7201a8"
             ],
             [
              0.3333333333333333,
              "#9c179e"
             ],
             [
              0.4444444444444444,
              "#bd3786"
             ],
             [
              0.5555555555555556,
              "#d8576b"
             ],
             [
              0.6666666666666666,
              "#ed7953"
             ],
             [
              0.7777777777777778,
              "#fb9f3a"
             ],
             [
              0.8888888888888888,
              "#fdca26"
             ],
             [
              1,
              "#f0f921"
             ]
            ],
            "type": "histogram2d"
           }
          ],
          "histogram2dcontour": [
           {
            "colorbar": {
             "outlinewidth": 0,
             "ticks": ""
            },
            "colorscale": [
             [
              0,
              "#0d0887"
             ],
             [
              0.1111111111111111,
              "#46039f"
             ],
             [
              0.2222222222222222,
              "#7201a8"
             ],
             [
              0.3333333333333333,
              "#9c179e"
             ],
             [
              0.4444444444444444,
              "#bd3786"
             ],
             [
              0.5555555555555556,
              "#d8576b"
             ],
             [
              0.6666666666666666,
              "#ed7953"
             ],
             [
              0.7777777777777778,
              "#fb9f3a"
             ],
             [
              0.8888888888888888,
              "#fdca26"
             ],
             [
              1,
              "#f0f921"
             ]
            ],
            "type": "histogram2dcontour"
           }
          ],
          "mesh3d": [
           {
            "colorbar": {
             "outlinewidth": 0,
             "ticks": ""
            },
            "type": "mesh3d"
           }
          ],
          "parcoords": [
           {
            "line": {
             "colorbar": {
              "outlinewidth": 0,
              "ticks": ""
             }
            },
            "type": "parcoords"
           }
          ],
          "pie": [
           {
            "automargin": true,
            "type": "pie"
           }
          ],
          "scatter": [
           {
            "fillpattern": {
             "fillmode": "overlay",
             "size": 10,
             "solidity": 0.2
            },
            "type": "scatter"
           }
          ],
          "scatter3d": [
           {
            "line": {
             "colorbar": {
              "outlinewidth": 0,
              "ticks": ""
             }
            },
            "marker": {
             "colorbar": {
              "outlinewidth": 0,
              "ticks": ""
             }
            },
            "type": "scatter3d"
           }
          ],
          "scattercarpet": [
           {
            "marker": {
             "colorbar": {
              "outlinewidth": 0,
              "ticks": ""
             }
            },
            "type": "scattercarpet"
           }
          ],
          "scattergeo": [
           {
            "marker": {
             "colorbar": {
              "outlinewidth": 0,
              "ticks": ""
             }
            },
            "type": "scattergeo"
           }
          ],
          "scattergl": [
           {
            "marker": {
             "colorbar": {
              "outlinewidth": 0,
              "ticks": ""
             }
            },
            "type": "scattergl"
           }
          ],
          "scattermapbox": [
           {
            "marker": {
             "colorbar": {
              "outlinewidth": 0,
              "ticks": ""
             }
            },
            "type": "scattermapbox"
           }
          ],
          "scatterpolar": [
           {
            "marker": {
             "colorbar": {
              "outlinewidth": 0,
              "ticks": ""
             }
            },
            "type": "scatterpolar"
           }
          ],
          "scatterpolargl": [
           {
            "marker": {
             "colorbar": {
              "outlinewidth": 0,
              "ticks": ""
             }
            },
            "type": "scatterpolargl"
           }
          ],
          "scatterternary": [
           {
            "marker": {
             "colorbar": {
              "outlinewidth": 0,
              "ticks": ""
             }
            },
            "type": "scatterternary"
           }
          ],
          "surface": [
           {
            "colorbar": {
             "outlinewidth": 0,
             "ticks": ""
            },
            "colorscale": [
             [
              0,
              "#0d0887"
             ],
             [
              0.1111111111111111,
              "#46039f"
             ],
             [
              0.2222222222222222,
              "#7201a8"
             ],
             [
              0.3333333333333333,
              "#9c179e"
             ],
             [
              0.4444444444444444,
              "#bd3786"
             ],
             [
              0.5555555555555556,
              "#d8576b"
             ],
             [
              0.6666666666666666,
              "#ed7953"
             ],
             [
              0.7777777777777778,
              "#fb9f3a"
             ],
             [
              0.8888888888888888,
              "#fdca26"
             ],
             [
              1,
              "#f0f921"
             ]
            ],
            "type": "surface"
           }
          ],
          "table": [
           {
            "cells": {
             "fill": {
              "color": "#EBF0F8"
             },
             "line": {
              "color": "white"
             }
            },
            "header": {
             "fill": {
              "color": "#C8D4E3"
             },
             "line": {
              "color": "white"
             }
            },
            "type": "table"
           }
          ]
         },
         "layout": {
          "annotationdefaults": {
           "arrowcolor": "#2a3f5f",
           "arrowhead": 0,
           "arrowwidth": 1
          },
          "autotypenumbers": "strict",
          "coloraxis": {
           "colorbar": {
            "outlinewidth": 0,
            "ticks": ""
           }
          },
          "colorscale": {
           "diverging": [
            [
             0,
             "#8e0152"
            ],
            [
             0.1,
             "#c51b7d"
            ],
            [
             0.2,
             "#de77ae"
            ],
            [
             0.3,
             "#f1b6da"
            ],
            [
             0.4,
             "#fde0ef"
            ],
            [
             0.5,
             "#f7f7f7"
            ],
            [
             0.6,
             "#e6f5d0"
            ],
            [
             0.7,
             "#b8e186"
            ],
            [
             0.8,
             "#7fbc41"
            ],
            [
             0.9,
             "#4d9221"
            ],
            [
             1,
             "#276419"
            ]
           ],
           "sequential": [
            [
             0,
             "#0d0887"
            ],
            [
             0.1111111111111111,
             "#46039f"
            ],
            [
             0.2222222222222222,
             "#7201a8"
            ],
            [
             0.3333333333333333,
             "#9c179e"
            ],
            [
             0.4444444444444444,
             "#bd3786"
            ],
            [
             0.5555555555555556,
             "#d8576b"
            ],
            [
             0.6666666666666666,
             "#ed7953"
            ],
            [
             0.7777777777777778,
             "#fb9f3a"
            ],
            [
             0.8888888888888888,
             "#fdca26"
            ],
            [
             1,
             "#f0f921"
            ]
           ],
           "sequentialminus": [
            [
             0,
             "#0d0887"
            ],
            [
             0.1111111111111111,
             "#46039f"
            ],
            [
             0.2222222222222222,
             "#7201a8"
            ],
            [
             0.3333333333333333,
             "#9c179e"
            ],
            [
             0.4444444444444444,
             "#bd3786"
            ],
            [
             0.5555555555555556,
             "#d8576b"
            ],
            [
             0.6666666666666666,
             "#ed7953"
            ],
            [
             0.7777777777777778,
             "#fb9f3a"
            ],
            [
             0.8888888888888888,
             "#fdca26"
            ],
            [
             1,
             "#f0f921"
            ]
           ]
          },
          "colorway": [
           "#636efa",
           "#EF553B",
           "#00cc96",
           "#ab63fa",
           "#FFA15A",
           "#19d3f3",
           "#FF6692",
           "#B6E880",
           "#FF97FF",
           "#FECB52"
          ],
          "font": {
           "color": "#2a3f5f"
          },
          "geo": {
           "bgcolor": "white",
           "lakecolor": "white",
           "landcolor": "#E5ECF6",
           "showlakes": true,
           "showland": true,
           "subunitcolor": "white"
          },
          "hoverlabel": {
           "align": "left"
          },
          "hovermode": "closest",
          "mapbox": {
           "style": "light"
          },
          "paper_bgcolor": "white",
          "plot_bgcolor": "#E5ECF6",
          "polar": {
           "angularaxis": {
            "gridcolor": "white",
            "linecolor": "white",
            "ticks": ""
           },
           "bgcolor": "#E5ECF6",
           "radialaxis": {
            "gridcolor": "white",
            "linecolor": "white",
            "ticks": ""
           }
          },
          "scene": {
           "xaxis": {
            "backgroundcolor": "#E5ECF6",
            "gridcolor": "white",
            "gridwidth": 2,
            "linecolor": "white",
            "showbackground": true,
            "ticks": "",
            "zerolinecolor": "white"
           },
           "yaxis": {
            "backgroundcolor": "#E5ECF6",
            "gridcolor": "white",
            "gridwidth": 2,
            "linecolor": "white",
            "showbackground": true,
            "ticks": "",
            "zerolinecolor": "white"
           },
           "zaxis": {
            "backgroundcolor": "#E5ECF6",
            "gridcolor": "white",
            "gridwidth": 2,
            "linecolor": "white",
            "showbackground": true,
            "ticks": "",
            "zerolinecolor": "white"
           }
          },
          "shapedefaults": {
           "line": {
            "color": "#2a3f5f"
           }
          },
          "ternary": {
           "aaxis": {
            "gridcolor": "white",
            "linecolor": "white",
            "ticks": ""
           },
           "baxis": {
            "gridcolor": "white",
            "linecolor": "white",
            "ticks": ""
           },
           "bgcolor": "#E5ECF6",
           "caxis": {
            "gridcolor": "white",
            "linecolor": "white",
            "ticks": ""
           }
          },
          "title": {
           "x": 0.05
          },
          "xaxis": {
           "automargin": true,
           "gridcolor": "white",
           "linecolor": "white",
           "ticks": "",
           "title": {
            "standoff": 15
           },
           "zerolinecolor": "white",
           "zerolinewidth": 2
          },
          "yaxis": {
           "automargin": true,
           "gridcolor": "white",
           "linecolor": "white",
           "ticks": "",
           "title": {
            "standoff": 15
           },
           "zerolinecolor": "white",
           "zerolinewidth": 2
          }
         }
        }
       }
      }
     },
     "metadata": {},
     "output_type": "display_data"
    }
   ],
   "source": [
    "fig = go.Figure(data=[go.Surface(z=U_true[-1], x=X, y=Y)])\n",
    "fig.show()"
   ]
  },
  {
   "cell_type": "markdown",
   "metadata": {},
   "source": [
    "### Метод дробных шагов"
   ]
  },
  {
   "cell_type": "markdown",
   "metadata": {},
   "source": [
    "Здесь слой $k + \\frac{1}{2}$ становится \"полностью вирутальныйм\""
   ]
  },
  {
   "cell_type": "markdown",
   "metadata": {},
   "source": [
    "$$ \\frac{u^{k + \\frac{1}{2}}_{i,j} - u^{k}_{i,j}}{\\tau} = \\frac{a}{h_1^2} \\left (  u^{k + \\frac{1}{2}}_{i+1, j} - 2  u^{k + \\frac{1}{2}}_{i, j} +  u^{k + \\frac{1}{2}}_{i-1, j}\\right ) + f^{k}_{i, j}$$\n",
    "\n",
    "идём по j = $1 .. y_l - h_y$"
   ]
  },
  {
   "cell_type": "markdown",
   "metadata": {},
   "source": [
    "$$ \\frac{u^{k + 1}_{i,j} - u^{k + \\frac{1}{2}}_{i,j}}{\\tau} = \\frac{b}{h_2^2} \\left (  u^{k + 1}_{i, j+1} - 2  u^{k + 1}_{i, j} +  u^{k + 1}_{i, j-1}\\right ) + f^{k + 1}_{i, j}$$\n",
    "\n",
    "идём по i = $1 .. x_l - h_x$ по x явно, по y неявно"
   ]
  },
  {
   "cell_type": "code",
   "execution_count": null,
   "metadata": {},
   "outputs": [],
   "source": [
    "def partial_steps():\n",
    "    return X, Y, T, U_values"
   ]
  }
 ],
 "metadata": {
  "kernelspec": {
   "display_name": "base",
   "language": "python",
   "name": "python3"
  },
  "language_info": {
   "codemirror_mode": {
    "name": "ipython",
    "version": 3
   },
   "file_extension": ".py",
   "mimetype": "text/x-python",
   "name": "python",
   "nbconvert_exporter": "python",
   "pygments_lexer": "ipython3",
   "version": "3.9.18"
  }
 },
 "nbformat": 4,
 "nbformat_minor": 2
}
